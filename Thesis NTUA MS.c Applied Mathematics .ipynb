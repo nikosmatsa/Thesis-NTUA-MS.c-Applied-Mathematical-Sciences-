{
 "cells": [
  {
   "cell_type": "code",
   "execution_count": 1,
   "metadata": {},
   "outputs": [],
   "source": [
    "import numpy as np\n",
    "import matplotlib\n",
    "import matplotlib.pyplot as plt\n",
    "from pseudopy import *\n",
    "from matplotlib import pyplot\n",
    "from scipy.linalg import eigvals\n",
    "from matplotlib.patches import Circle\n",
    "from matplotlib.collections import PatchCollection\n",
    "import matplotlib.pyplot as plt"
   ]
  },
  {
   "cell_type": "code",
   "execution_count": 2,
   "metadata": {},
   "outputs": [
    {
     "data": {
      "text/plain": [
       "matrix([[ 2,  0,  1],\n",
       "        [ 3, -1,  1],\n",
       "        [-2,  4,  1],\n",
       "        [ 1,  1,  1]])"
      ]
     },
     "execution_count": 2,
     "metadata": {},
     "output_type": "execute_result"
    }
   ],
   "source": [
    "A = np.matrix([[2,  0, 1],\n",
    "               [3, -1, 1],\n",
    "               [-2,  4, 1],\n",
    "               [1,  1, 1]]);A"
   ]
  },
  {
   "cell_type": "code",
   "execution_count": 3,
   "metadata": {},
   "outputs": [],
   "source": [
    "d = A.T@A"
   ]
  },
  {
   "cell_type": "code",
   "execution_count": 4,
   "metadata": {},
   "outputs": [],
   "source": [
    "Λ,X = np.linalg.eig(d)"
   ]
  },
  {
   "cell_type": "code",
   "execution_count": 5,
   "metadata": {},
   "outputs": [
    {
     "data": {
      "text/plain": [
       "array([[28.,  0.,  0.],\n",
       "       [ 0., 12.,  0.],\n",
       "       [ 0.,  0., -0.]])"
      ]
     },
     "execution_count": 5,
     "metadata": {},
     "output_type": "execute_result"
    }
   ],
   "source": [
    "D = np.diag(np.round(Λ));D"
   ]
  },
  {
   "cell_type": "code",
   "execution_count": 6,
   "metadata": {},
   "outputs": [
    {
     "data": {
      "text/plain": [
       "array([[-0.707,  0.577, -0.408],\n",
       "       [ 0.707,  0.577, -0.408],\n",
       "       [ 0.   ,  0.577,  0.816]])"
      ]
     },
     "execution_count": 6,
     "metadata": {},
     "output_type": "execute_result"
    }
   ],
   "source": [
    "np.round(X,3)"
   ]
  },
  {
   "cell_type": "code",
   "execution_count": 7,
   "metadata": {},
   "outputs": [
    {
     "data": {
      "text/plain": [
       "array([[5.29150262e+00, 0.00000000e+00, 0.00000000e+00],\n",
       "       [0.00000000e+00, 3.46410162e+00, 0.00000000e+00],\n",
       "       [0.00000000e+00, 0.00000000e+00, 5.72212401e-16]])"
      ]
     },
     "execution_count": 7,
     "metadata": {},
     "output_type": "execute_result"
    }
   ],
   "source": [
    "U,S,V = np.linalg.svd(A,full_matrices=False)\n",
    "S = np.diag(S)\n",
    "S"
   ]
  },
  {
   "cell_type": "code",
   "execution_count": 8,
   "metadata": {},
   "outputs": [
    {
     "data": {
      "text/plain": [
       "matrix([[-2.67261242e-01,  5.00000000e-01, -8.04910061e-01],\n",
       "        [-5.34522484e-01,  5.00000000e-01,  5.69500183e-01],\n",
       "        [ 8.01783726e-01,  5.00000000e-01,  1.11363435e-01],\n",
       "        [ 2.49800181e-16,  5.00000000e-01,  1.24046443e-01]])"
      ]
     },
     "execution_count": 8,
     "metadata": {},
     "output_type": "execute_result"
    }
   ],
   "source": [
    "U"
   ]
  },
  {
   "cell_type": "code",
   "execution_count": 9,
   "metadata": {},
   "outputs": [
    {
     "data": {
      "text/plain": [
       "matrix([[-7.07106781e-01,  7.07106781e-01,  2.10475052e-16],\n",
       "        [ 5.77350269e-01,  5.77350269e-01,  5.77350269e-01],\n",
       "        [ 4.08248290e-01,  4.08248290e-01, -8.16496581e-01]])"
      ]
     },
     "execution_count": 9,
     "metadata": {},
     "output_type": "execute_result"
    }
   ],
   "source": [
    "V"
   ]
  },
  {
   "cell_type": "code",
   "execution_count": 10,
   "metadata": {},
   "outputs": [
    {
     "data": {
      "text/plain": [
       "array([[ 2.22,  0.18,  0.13],\n",
       "       [ 3.22, -0.63, -0.45],\n",
       "       [-1.78,  3.45,  2.44],\n",
       "       [ 1.22,  1.  ,  0.71]])"
      ]
     },
     "execution_count": 10,
     "metadata": {},
     "output_type": "execute_result"
    }
   ],
   "source": [
    "np.round(U@S@V.T,2)"
   ]
  },
  {
   "cell_type": "code",
   "execution_count": 36,
   "metadata": {},
   "outputs": [],
   "source": [
    "x = np.array([9,10,2,7,1,3,4,6,8,5]);x\n",
    "x = np.asmatrix(x)\n",
    "U,S,V = np.linalg.svd(x)"
   ]
  },
  {
   "cell_type": "code",
   "execution_count": 37,
   "metadata": {},
   "outputs": [
    {
     "data": {
      "text/plain": [
       "matrix([[ 6,  6],\n",
       "        [-1,  1]])"
      ]
     },
     "execution_count": 37,
     "metadata": {},
     "output_type": "execute_result"
    }
   ],
   "source": [
    "B = np.matrix([[ 6, 6],\n",
    "               [-1, 1]]);B"
   ]
  },
  {
   "cell_type": "code",
   "execution_count": 38,
   "metadata": {},
   "outputs": [
    {
     "data": {
      "text/plain": [
       "array([[ 6.,  6.],\n",
       "       [-1.,  1.]])"
      ]
     },
     "execution_count": 38,
     "metadata": {},
     "output_type": "execute_result"
    }
   ],
   "source": [
    "U,S,V = np.linalg.svd(B,full_matrices=False)\n",
    "S = np.diag(S)\n",
    "np.round(U@S@V.T,2)"
   ]
  },
  {
   "cell_type": "code",
   "execution_count": null,
   "metadata": {},
   "outputs": [],
   "source": [
    "np.linalg.eig(B)"
   ]
  },
  {
   "cell_type": "code",
   "execution_count": 39,
   "metadata": {},
   "outputs": [],
   "source": [
    "def Gerschgorin(A):\n",
    "\n",
    "    n = len(A)\n",
    "    eval, evec = np.linalg.eig(A)\n",
    "\n",
    "    patches = []\n",
    "    \n",
    "    # draw discs\n",
    "    \n",
    "    for i in range(n):\n",
    "        xi = np.real(A[i,i])\n",
    "        yi = np.imag(A[i,i])\n",
    "        ri = np.sum(np.abs(A[i,:])) - np.abs(A[i,i]) \n",
    "        \n",
    "        circle = Circle((xi, yi), ri)\n",
    "        patches.append(circle)\n",
    "\n",
    "    fig, ax = plt.subplots()\n",
    "\n",
    "    p = PatchCollection(patches, cmap=matplotlib.cm.jet, alpha=0.1)\n",
    "    ax.add_collection(p)\n",
    "    plt.axis('equal')\n",
    "    \n",
    "    for xi, yi in zip(np.real(eval), np.imag(eval)):\n",
    "        plt.plot(xi, yi,'o')\n",
    "    \n",
    "    plt.show()"
   ]
  },
  {
   "cell_type": "code",
   "execution_count": 40,
   "metadata": {},
   "outputs": [],
   "source": [
    "np.random.seed(123)\n",
    "n  = 6\n",
    "mu = 0  \n",
    "sigma = 1\n",
    "A  = np.random.normal(mu, sigma, (n,n))\n",
    "A  = np.asmatrix(A)\n",
    "C = (A+A.conj().T)/2"
   ]
  },
  {
   "cell_type": "code",
   "execution_count": 41,
   "metadata": {},
   "outputs": [
    {
     "data": {
      "text/plain": [
       "True"
      ]
     },
     "execution_count": 41,
     "metadata": {},
     "output_type": "execute_result"
    }
   ],
   "source": [
    "def check_symmetric(a, rtol=1e-05, atol=1e-08):\n",
    "    return np.allclose(a, a.T, rtol=rtol, atol=atol)\n",
    "check_symmetric(C)"
   ]
  },
  {
   "cell_type": "code",
   "execution_count": 42,
   "metadata": {},
   "outputs": [],
   "source": [
    "def randomhermitian(n):\n",
    "    np.random.seed(123)\n",
    "    mu = 0  \n",
    "    sigma = n**(-1/2)\n",
    "    A  = np.random.normal(mu, sigma, (n,n))* 1j\n",
    "    A  = np.asmatrix(A);A\n",
    "    C = (A+A.conj().T)/2\n",
    "    return(C)"
   ]
  },
  {
   "cell_type": "code",
   "execution_count": 43,
   "metadata": {},
   "outputs": [
    {
     "data": {
      "text/plain": [
       "matrix([[ 0.+0.j        ,  0.+0.39398642j,  0.-0.24573944j,\n",
       "          0.-0.74942109j],\n",
       "        [ 0.-0.39398642j,  0.+0.j        , -0.-0.38998471j,\n",
       "          0.+0.05249734j],\n",
       "        [ 0.+0.24573944j,  0.+0.38998471j,  0.+0.j        ,\n",
       "          0.+0.08731825j],\n",
       "        [ 0.+0.74942109j, -0.-0.05249734j, -0.-0.08731825j,\n",
       "          0.+0.j        ]])"
      ]
     },
     "execution_count": 43,
     "metadata": {},
     "output_type": "execute_result"
    }
   ],
   "source": [
    "A = randomhermitian(4);A"
   ]
  },
  {
   "cell_type": "code",
   "execution_count": 44,
   "metadata": {},
   "outputs": [
    {
     "data": {
      "image/png": "[encoded data removed]",
      "text/plain": [
       "<Figure size 432x288 with 1 Axes>"
      ]
     },
     "metadata": {
      "needs_background": "light"
     },
     "output_type": "display_data"
    }
   ],
   "source": [
    "Gerschgorin(A)"
   ]
  },
  {
   "cell_type": "code",
   "execution_count": 45,
   "metadata": {},
   "outputs": [
    {
     "data": {
      "image/png": "[encoded data removed]",
      "text/plain": [
       "<Figure size 432x288 with 1 Axes>"
      ]
     },
     "metadata": {
      "needs_background": "light"
     },
     "output_type": "display_data"
    }
   ],
   "source": [
    "pseudo = NonnormalAuto(A, 1e-5, 1)\n",
    "pseudo.plot([10**k for k in range(-4, 3)], spectrum=eigvals(A))\n",
    "pyplot.show()"
   ]
  },
  {
   "cell_type": "code",
   "execution_count": 46,
   "metadata": {},
   "outputs": [],
   "source": [
    "U,S,V = np.linalg.svd(B,full_matrices=False)"
   ]
  },
  {
   "cell_type": "code",
   "execution_count": null,
   "metadata": {},
   "outputs": [],
   "source": []
  },
  {
   "cell_type": "code",
   "execution_count": 47,
   "metadata": {},
   "outputs": [],
   "source": [
    "from scipy.linalg import svdvals\n",
    "def inv_resolvent_norm(A, z, method='svd'):\n",
    "    \n",
    "    if method == 'svd':\n",
    "        return np.min(svdvals(A - z*np.eye(*A.shape)))\n",
    "    elif method == 'lanczos':\n",
    "        m, n = A.shape\n",
    "        if m > n:\n",
    "            raise ValueError('m > n is not allowed')\n",
    "        AH = A.T.conj()\n",
    "\n",
    "        def matvec(x):\n",
    "            \n",
    "            x1 = x[:m]\n",
    "            x2 = x[m:]\n",
    "            ret1 = AH.dot(x2) - np.conj(z)*x2\n",
    "            ret2 = np.array(A.dot(x1), dtype=np.complex)\n",
    "            ret2[:n] -= z*x1\n",
    "            return np.c_[ret1, ret2]\n",
    "        AH_A = LinearOperator(matvec=matvec, dtype=np.complex,\n",
    "                              shape=(m+n, m+n))\n",
    "\n",
    "        evals = eigsh(AH_A, k=2, tol=1e-6, which='SM', maxiter=m+n+1,\n",
    "                      ncv=2*(m+n),\n",
    "                      return_eigenvectors=False)\n",
    "\n",
    "        return np.min(np.abs(evals))"
   ]
  },
  {
   "cell_type": "code",
   "execution_count": 48,
   "metadata": {},
   "outputs": [
    {
     "data": {
      "text/plain": [
       "matrix([[-1,  1,  0],\n",
       "        [ 0, -1,  1],\n",
       "        [ 4, -8,  4]])"
      ]
     },
     "execution_count": 48,
     "metadata": {},
     "output_type": "execute_result"
    }
   ],
   "source": [
    "A = np.matrix([[-1,1,0],\n",
    "               [0,-1,1],\n",
    "               [4,-8,4]])\n",
    "A"
   ]
  },
  {
   "cell_type": "code",
   "execution_count": 49,
   "metadata": {},
   "outputs": [
    {
     "data": {
      "image/png": "[encoded data removed]",
      "text/plain": [
       "<Figure size 432x288 with 1 Axes>"
      ]
     },
     "metadata": {
      "needs_background": "light"
     },
     "output_type": "display_data"
    }
   ],
   "source": [
    "Gerschgorin(A)"
   ]
  },
  {
   "cell_type": "code",
   "execution_count": 50,
   "metadata": {},
   "outputs": [
    {
     "data": {
      "text/plain": [
       "0.14073330835911999"
      ]
     },
     "execution_count": 50,
     "metadata": {},
     "output_type": "execute_result"
    }
   ],
   "source": [
    "inv_resolvent_norm(A, z=1j, method='svd')"
   ]
  },
  {
   "cell_type": "code",
   "execution_count": 51,
   "metadata": {},
   "outputs": [
    {
     "data": {
      "image/png": "[encoded data removed]",
      "text/plain": [
       "<Figure size 432x288 with 1 Axes>"
      ]
     },
     "metadata": {
      "needs_background": "light"
     },
     "output_type": "display_data"
    }
   ],
   "source": [
    "pseudo = NonnormalAuto(A, 1e-5, 1)\n",
    "pseudo.plot([10**k for k in range(-4, 3)], spectrum=eigvals(A))\n",
    "pyplot.show()"
   ]
  },
  {
   "cell_type": "code",
   "execution_count": 52,
   "metadata": {},
   "outputs": [
    {
     "data": {
      "image/png": "[encoded data removed]",
      "text/plain": [
       "<Figure size 432x288 with 1 Axes>"
      ]
     },
     "metadata": {
      "needs_background": "light"
     },
     "output_type": "display_data"
    }
   ],
   "source": [
    "A = np.matrix([[-13,-2,6],\n",
    "               [52,5,-20],\n",
    "               [-22,-4,11]])\n",
    "A\n",
    "Gerschgorin(A)"
   ]
  },
  {
   "cell_type": "code",
   "execution_count": 53,
   "metadata": {},
   "outputs": [
    {
     "data": {
      "text/plain": [
       "0.014880045695576412"
      ]
     },
     "execution_count": 53,
     "metadata": {},
     "output_type": "execute_result"
    }
   ],
   "source": [
    "inv_resolvent_norm(A, z=1j, method='svd')"
   ]
  },
  {
   "cell_type": "code",
   "execution_count": 54,
   "metadata": {},
   "outputs": [
    {
     "data": {
      "image/png": "[encoded data removed]",
      "text/plain": [
       "<Figure size 432x288 with 1 Axes>"
      ]
     },
     "metadata": {
      "needs_background": "light"
     },
     "output_type": "display_data"
    }
   ],
   "source": [
    "pseudo = NonnormalAuto(A, 1e-5, 1)\n",
    "pseudo.plot([10**k for k in range(-4, 3)], spectrum=eigvals(A))\n",
    "pyplot.show()"
   ]
  },
  {
   "cell_type": "code",
   "execution_count": 55,
   "metadata": {},
   "outputs": [],
   "source": [
    "def rsvd(A, Omega):\n",
    "    Y = A @ Omega\n",
    "    Q, _ = np.linalg.qr(Y)\n",
    "    B = Q.T @ A\n",
    "    u_tilde, s, v = np.linalg.svd(B, full_matrices = 0)\n",
    "    u = Q @ u_tilde\n",
    "    return u, s, v"
   ]
  },
  {
   "cell_type": "code",
   "execution_count": 65,
   "metadata": {},
   "outputs": [
    {
     "data": {
      "image/png": "[encoded data removed]",
      "text/plain": [
       "<Figure size 432x288 with 1 Axes>"
      ]
     },
     "metadata": {
      "needs_background": "light"
     },
     "output_type": "display_data"
    }
   ],
   "source": [
    "np.random.seed(1000)\n",
    "A = np.array([[1, 3, 2],\n",
    "              [5, 3, 1],\n",
    "              [3, 4, 5]])\n",
    "rank = 2\n",
    "Omega = np.random.randn(A.shape[1], rank)\n",
    "Omega\n",
    "pseudo = NonnormalAuto(A, 1e-5, 1)\n",
    "pseudo.plot([10**k for k in range(-4, 3)], spectrum=eigvals(A))\n",
    "pyplot.show()\n"
   ]
  },
  {
   "cell_type": "code",
   "execution_count": 57,
   "metadata": {},
   "outputs": [
    {
     "data": {
      "image/png": "[encoded data removed]",
      "text/plain": [
       "<Figure size 432x288 with 1 Axes>"
      ]
     },
     "metadata": {
      "needs_background": "light"
     },
     "output_type": "display_data"
    }
   ],
   "source": [
    "Gerschgorin(A)"
   ]
  },
  {
   "cell_type": "code",
   "execution_count": 58,
   "metadata": {},
   "outputs": [
    {
     "name": "stdout",
     "output_type": "stream",
     "text": [
      "Left singular vectors:\n",
      "[[ 0.38070859  0.60505354]\n",
      " [ 0.56830191 -0.74963644]\n",
      " [ 0.72944767  0.26824507]]\n",
      "\n",
      "Singular values:\n",
      "[9.34224023 3.02039888]\n",
      "\n",
      "Right singular vectors:\n",
      "[[ 0.57915029  0.61707064  0.53273704]\n",
      " [-0.77420021  0.21163814  0.59650929]]\n",
      "\n"
     ]
    }
   ],
   "source": [
    "u, s, v = rsvd(A, Omega)\n",
    "print('Left singular vectors:')\n",
    "print(u)\n",
    "print()\n",
    "print('Singular values:')\n",
    "print(s)\n",
    "print()\n",
    "print('Right singular vectors:')\n",
    "print(v)\n",
    "print()"
   ]
  },
  {
   "cell_type": "code",
   "execution_count": 59,
   "metadata": {},
   "outputs": [],
   "source": [
    "def power_iteration(A, Omega, power_iter = 3):\n",
    "    Y = A @ Omega\n",
    "    for q in range(power_iter):\n",
    "        Y = A @ (A.T @ Y)\n",
    "    Q, _ = np.linalg.qr(Y)\n",
    "    return Q\n",
    "def rsvd(A, Omega):\n",
    "    Q = power_iteration(A, Omega)\n",
    "    B = Q.T @ A\n",
    "    u_tilde, s, v = np.linalg.svd(B, full_matrices = 0)\n",
    "    u = Q @ u_tilde\n",
    "    return u, s, v"
   ]
  },
  {
   "cell_type": "code",
   "execution_count": 60,
   "metadata": {
    "scrolled": true
   },
   "outputs": [
    {
     "data": {
      "text/plain": [
       "8.582993689370598"
      ]
     },
     "execution_count": 60,
     "metadata": {},
     "output_type": "execute_result"
    }
   ],
   "source": [
    "np.random.seed(1000)\n",
    "a = np.array([[1, 3, 2],\n",
    "              [5, 3, 1],\n",
    "              [3, 4, 5]])\n",
    "\n",
    "np.linalg.cond(a)"
   ]
  },
  {
   "cell_type": "code",
   "execution_count": 61,
   "metadata": {},
   "outputs": [
    {
     "data": {
      "text/plain": [
       "8.582993689370602"
      ]
     },
     "execution_count": 61,
     "metadata": {},
     "output_type": "execute_result"
    }
   ],
   "source": [
    "U,S,V = np.linalg.svd(a,full_matrices=False)\n",
    "np.max(S)/np.min(S)"
   ]
  },
  {
   "cell_type": "code",
   "execution_count": 62,
   "metadata": {},
   "outputs": [
    {
     "name": "stdout",
     "output_type": "stream",
     "text": [
      "Left singular vectors:\n",
      "[[ 0.37421757  0.28528579]\n",
      " [ 0.56470638 -0.82484381]\n",
      " [ 0.73557319  0.48810317]]\n",
      "\n",
      "Singular values:\n",
      "[9.34265841 3.24497775]\n",
      "\n",
      "Right singular vectors:\n",
      "[[ 0.57847229  0.61642675  0.53421706]\n",
      " [-0.73178429  0.10284774  0.67373147]]\n",
      "\n"
     ]
    }
   ],
   "source": [
    "rank = 2\n",
    "Omega = np.random.randn(A.shape[1], rank)\n",
    "u, s, v = rsvd(A, Omega)\n",
    "print('Left singular vectors:')\n",
    "print(u)\n",
    "print()\n",
    "print('Singular values:')\n",
    "print(s)\n",
    "print()\n",
    "print('Right singular vectors:')\n",
    "print(v)\n",
    "print()"
   ]
  },
  {
   "cell_type": "code",
   "execution_count": 63,
   "metadata": {},
   "outputs": [
    {
     "data": {
      "text/plain": [
       "array([[-0.37411363,  0.28542208],\n",
       "       [-0.56500678, -0.82463807],\n",
       "       [-0.73539536,  0.48837106]])"
      ]
     },
     "execution_count": 63,
     "metadata": {},
     "output_type": "execute_result"
    }
   ],
   "source": [
    "power_iteration(A, Omega, power_iter = 3)"
   ]
  },
  {
   "cell_type": "code",
   "execution_count": null,
   "metadata": {},
   "outputs": [],
   "source": []
  },
  {
   "cell_type": "code",
   "execution_count": null,
   "metadata": {},
   "outputs": [],
   "source": []
  }
 ],
 "metadata": {
  "kernelspec": {
   "display_name": "Python 3",
   "language": "python",
   "name": "python3"
  },
  "language_info": {
   "codemirror_mode": {
    "name": "ipython",
    "version": 3
   },
   "file_extension": ".py",
   "mimetype": "text/x-python",
   "name": "python",
   "nbconvert_exporter": "python",
   "pygments_lexer": "ipython3",
   "version": "3.8.3"
  }
 },
 "nbformat": 4,
 "nbformat_minor": 4
}
